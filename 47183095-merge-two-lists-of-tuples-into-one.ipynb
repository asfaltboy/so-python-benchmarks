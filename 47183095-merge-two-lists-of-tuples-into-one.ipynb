{
 "cells": [
  {
   "cell_type": "markdown",
   "metadata": {},
   "source": [
    "## SO 47183095 Timeit of suggested answers\n",
    "\n",
    "Merge two lists of tuples into one\n",
    "\n",
    "https://stackoverflow.com/questions/47183095/merge-two-lists-of-tuples-into-one\n",
    "\n",
    "> Supposing we have two lists, where `list1` contains initial values, and list 2 has all the values to update in the first list:\n",
    "> \n",
    ">     list1 = [('a', 0), ('b', 0), ('c', 0)]\n",
    ">     list2 = [('a', 5), ('c', 3)]\n",
    "> \n",
    "> The desired result is a merged list3, of list2 values inserted into list1 values, using to the first element as index:\n",
    "> \n",
    ">     list3 = [('a', 5), ('b', 0), ('c', 3)]\n",
    "> \n",
    "> I tried running the following code without success:\n",
    "> \n",
    ">     list3 = list1 + list2 \n",
    ">     list3 = list(zip(list1, list2)) "
   ]
  },
  {
   "cell_type": "code",
   "execution_count": 6,
   "metadata": {},
   "outputs": [
    {
     "name": "stdout",
     "output_type": "stream",
     "text": [
      "2.19 µs ± 33.6 ns per loop (mean ± std. dev. of 7 runs, 100000 loops each)\n"
     ]
    }
   ],
   "source": [
    "%%timeit\n",
    "list1 = [('a', 0), ('b', 0), ('c', 0)]\n",
    "list2 = [('a', 5), ('c', 3)]\n",
    "d1 = dict(list1)\n",
    "d1.update(dict(list2))\n",
    "list(d1.items())"
   ]
  },
  {
   "cell_type": "code",
   "execution_count": 7,
   "metadata": {},
   "outputs": [
    {
     "name": "stdout",
     "output_type": "stream",
     "text": [
      "5.56 µs ± 37.2 ns per loop (mean ± std. dev. of 7 runs, 100000 loops each)\n"
     ]
    }
   ],
   "source": [
    "%%timeit\n",
    "from collections import defaultdict\n",
    "list1 = [('a', 0), ('b', 0), ('c', 0)]\n",
    "list2 = [('a', 5), ('c', 3)]\n",
    "d = defaultdict(list)\n",
    "for a, b in list1+list2:\n",
    "   d[a].append(b)\n",
    "\n",
    "final_data = sorted([(a, max(b)) for a, b in d.items()], key=lambda x:x[0])"
   ]
  }
 ],
 "metadata": {
  "kernelspec": {
   "display_name": "Python 3",
   "language": "python",
   "name": "python3"
  },
  "language_info": {
   "codemirror_mode": {
    "name": "ipython",
    "version": 3
   },
   "file_extension": ".py",
   "mimetype": "text/x-python",
   "name": "python",
   "nbconvert_exporter": "python",
   "pygments_lexer": "ipython3",
   "version": "3.6.3"
  }
 },
 "nbformat": 4,
 "nbformat_minor": 2
}
